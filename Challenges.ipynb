{
 "cells": [
  {
   "cell_type": "markdown",
   "id": "cdcd3d0c-2f7d-4c8b-bfcf-0c4360abb250",
   "metadata": {
    "jp-MarkdownHeadingCollapsed": true,
    "tags": []
   },
   "source": [
    "# Challenge 1: Factorials\n",
    "\n",
    "Probably the only challenge in the video that is not <i>excessively</i> difficult. But it is still pretty hard; don't be disappointed if you found this tough."
   ]
  },
  {
   "cell_type": "code",
   "execution_count": 39,
   "id": "e884745f-8b34-41ec-a9e4-7203f6bc64f0",
   "metadata": {},
   "outputs": [
    {
     "name": "stdout",
     "output_type": "stream",
     "text": [
      "120\n",
      "3628800\n",
      "1\n",
      "1\n",
      "Must be a positive integer.\n",
      "6\n"
     ]
    }
   ],
   "source": [
    "def factorial(num):\n",
    "    '''\n",
    "    Takes a non-zero integer and returns the factorial of that number.\n",
    "    '''\n",
    "    if type(num) == int and num>0: ## Check to ensure the datatype is Integer and the value is greater than zero\n",
    "        for i in list(range(1,num,1)): ## Loop through a range from 1 to the number, increasing by 1.\n",
    "                num = num*i\n",
    "        return num\n",
    "    \n",
    "    elif num==0: ## If entry is zero, return 1\n",
    "        return 1\n",
    "    \n",
    "    else: ## Fail criteria\n",
    "        return 'Must be a positive integer.' \n",
    "\n",
    "print(factorial(5))\n",
    "print(factorial(10))\n",
    "print(factorial(1))\n",
    "print(factorial(0))\n",
    "print(factorial(-10))\n",
    "print(factorial(3))"
   ]
  },
  {
   "cell_type": "markdown",
   "id": "ee37f548-7724-4129-b580-d03c3291c888",
   "metadata": {},
   "source": [
    "______________________________"
   ]
  },
  {
   "cell_type": "markdown",
   "id": "128753e4-19e4-4896-988e-156d8a6467bd",
   "metadata": {
    "jp-MarkdownHeadingCollapsed": true,
    "tags": []
   },
   "source": [
    "# Challenge 2: Convert Hex to Decimal\n",
    "\n",
    "This is a needlessly complicated challenge and is much harder than I think you should be expected to know by now."
   ]
  },
  {
   "cell_type": "markdown",
   "id": "e30089c8-d36e-4930-9845-a30c71b152fc",
   "metadata": {
    "tags": []
   },
   "source": [
    "<b> NOTE: THE FIRST FUNCTION BELOW IS _TOTALLY_ UNNECESSARY</b> -- I just wanted to write it to allow for letters beyond \"F\". This just creates a dictionary instead of requiring you to manually type one."
   ]
  },
  {
   "cell_type": "code",
   "execution_count": 112,
   "id": "13974bb1-c8ab-4398-80e9-9575bd8908ff",
   "metadata": {
    "tags": []
   },
   "outputs": [],
   "source": [
    "def create_hex_dictionary(max_number = 10,\n",
    "                          max_letter = \"F\"):\n",
    "    \"\"\"\n",
    "    Creates a dictionary of length max_number and max_letter, starting from \n",
    "    1 and continuing from max_number+1\n",
    "    \"\"\"\n",
    "    \n",
    "    max_letter = max_letter.lower()\n",
    "    number_dict = {str(i):i for i in range(0,max_number)}\n",
    "    hex_dict = number_dict\n",
    "\n",
    "    list_of_letters = [i.lower() for i in [\"A\",\"B\",\"C\",\"D\",\"E\",\"F\",\"G\",\"H\",\"I\",'J','K','L','M','N','O','P','Q','R','S','T','U','V','W','X','Y','Z']]\n",
    "    letter_position = list_of_letters.index(max_letter)\n",
    "    alpha_start = [i for i in number_dict.values()][-1]+1\n",
    "    alpha_end = letter_position + alpha_start\n",
    "\n",
    "    for letter,number in zip(list_of_letters,range(alpha_start,alpha_end+1)):\n",
    "        hex_dict[letter.upper()]=number\n",
    "    return hex_dict"
   ]
  },
  {
   "cell_type": "markdown",
   "id": "f02bd66c-7d23-409d-a6f8-635be39432b4",
   "metadata": {
    "tags": []
   },
   "source": [
    "Actual conversion function"
   ]
  },
  {
   "cell_type": "code",
   "execution_count": 138,
   "id": "3a45e4b8-b3e3-47d7-a8c4-f6401b02b1a9",
   "metadata": {},
   "outputs": [],
   "source": [
    "def convertHexToDecimal(hex_string, \n",
    "                        hex_dictionary = create_hex_dictionary(10,\"F\")):\n",
    "    \"\"\" \n",
    "    Takes a hex input and converts the result to a decimal based \n",
    "    on the supplied hex dictionary. By default, the hex dictionary \n",
    "    will go up to \"F,\" but can extend to \"Z\" if needed.\n",
    "    \"\"\"    \n",
    "    hd = str(hex_string)\n",
    "    current_sum = 0\n",
    "    try:\n",
    "        for i in [i for i in hd]:\n",
    "            max_base = len(hd)-1\n",
    "            max_base = 16**max_base\n",
    "            number_value = hex_dictionary[i]\n",
    "            times_current_hex_base = number_value*max_base\n",
    "            current_sum = int(current_sum+times_current_hex_base)\n",
    "            hd = hd[1:]\n",
    "    except:\n",
    "        current_sum = 'None'\n",
    "\n",
    "    return current_sum"
   ]
  },
  {
   "cell_type": "code",
   "execution_count": 143,
   "id": "062c2211-d93d-45a1-a39f-06be89f180b6",
   "metadata": {},
   "outputs": [
    {
     "name": "stdout",
     "output_type": "stream",
     "text": [
      "10\n",
      "0\n",
      "27\n",
      "960\n",
      "None\n",
      "None\n",
      "1833727\n"
     ]
    }
   ],
   "source": [
    "print(convertHexToDecimal('A'))\n",
    "print(convertHexToDecimal('0'))\n",
    "print(convertHexToDecimal('1B'))\n",
    "print(convertHexToDecimal('3C0'))\n",
    "print(convertHexToDecimal('ACG'))\n",
    "print(convertHexToDecimal('ZZTOP'))\n",
    "print(convertHexToDecimal('1BFAFF'))"
   ]
  },
  {
   "cell_type": "markdown",
   "id": "f9e85727-6fbf-4447-8aee-1c4592653295",
   "metadata": {
    "jp-MarkdownHeadingCollapsed": true,
    "tags": []
   },
   "source": [
    "__________\n",
    "\n",
    "# Challenge 3: ASCII Encoding\n",
    "\n",
    "This is a VERY tough challenge and I have no idea why it was included in a <i>beginner's</i> course. "
   ]
  },
  {
   "cell_type": "code",
   "execution_count": 330,
   "id": "f3301cd4-8bfc-4c07-bb02-74df03807240",
   "metadata": {},
   "outputs": [],
   "source": [
    "def encode_ascii(string):\n",
    "    \"\"\"\n",
    "    Convert a string to an encoded list of tuples as [(Letter, #Appearances)].\n",
    "    Returns a list of tuples.\n",
    "    \"\"\"\n",
    "    string = str(string) ### Ensure string\n",
    "    letter_list = [] ### Initiate a list of letters\n",
    "    counter_list = [] ### Initiate a list of number-of-appearances\n",
    "    counter = 0 ### Set initial count to zero\n",
    "\n",
    "    for position,letter in enumerate(string):\n",
    "        previous_counter = counter ### Create a new variable equal to the previous value\n",
    "        if position == 0: ## If this is the first loop, just add the letter to the list.\n",
    "            letter_list+= letter \n",
    "            counter+= 1 ### Add 1 to counter\n",
    "        elif letter_list[-1] != letter: ## Else, check if the current letter is the same as the last letter added to the list.\n",
    "            letter_list += letter ## If not the same, add that letter to the list.\n",
    "            counter=1 ## Reset the counter\n",
    "        else:\n",
    "            counter+=1 ### If not a new letter, add 1 to the counter\n",
    "        if counter == 1 and position>0: ### If this is not the first loop and count was reset to 1, add it the previous value to the list\n",
    "            counter_list+=[previous_counter]   \n",
    "        if position==len([i for i in string])-1: ### If this is the last character in the string, simply add its count (since there is no \"next value\")\n",
    "            counter_list+=[counter]\n",
    "        counter_list = [i for i in counter_list if i!=0] ### Remove any zeroes the code produced\n",
    "        \n",
    "        tuple_list = [(letter,count) for letter,count in zip(letter_list, counter_list)] ### Create a tuple of the letter, number combos\n",
    "        \n",
    "    return tuple_list\n",
    "    \n",
    "def decode_ascii(some_tuple):    \n",
    "    '''\n",
    "    Decode an encoded list of tuples structured [(Letter, #Appearances)].\n",
    "    Returns a string.\n",
    "    '''\n",
    "    resulting_string = '' ### Initiate a string\n",
    "    for letter, number in encoded: ###  Unpack the tuple\n",
    "        resulting_string+=letter*number ### Multiply the letter * the number of occurrences \n",
    "    \n",
    "    return resulting_string"
   ]
  },
  {
   "cell_type": "code",
   "execution_count": 331,
   "id": "58eb9007-b855-4e4e-870a-1e7176f2405e",
   "metadata": {},
   "outputs": [
    {
     "name": "stdout",
     "output_type": "stream",
     "text": [
      "[('A', 8), ('B', 6), ('A', 10), ('C', 7), ('A', 7), ('D', 7), ('A', 25)]\n",
      "AAAAAAAABBBBBBAAAAAAAAAACCCCCCCAAAAAAADDDDDDDAAAAAAAAAAAAAAAAAAAAAAAAA\n"
     ]
    }
   ],
   "source": [
    "string = ('''AAAAAAAABBBBBBAAAAAAAAAACCCCCCCAAAAAAADDDDDDDAAAAAAAAAAAAAAAAAAAAAAAAA''')\n",
    "encoded = encode_ascii(string)\n",
    "print(encoded)\n",
    "\n",
    "decoded = decode_ascii(encoded)\n",
    "print(decoded)"
   ]
  },
  {
   "cell_type": "code",
   "execution_count": 332,
   "id": "5665b13b-c271-44d8-b500-8f355b354a25",
   "metadata": {},
   "outputs": [
    {
     "name": "stdout",
     "output_type": "stream",
     "text": [
      "[('t', 1), ('h', 1), ('i', 4), ('s', 4), (' ', 1), ('i', 1), ('s', 5), (' ', 1), ('a', 1), (' ', 1), ('w', 1), ('e', 4), ('i', 3), ('r', 3), ('d', 4), (' ', 1), ('r', 2), ('e', 1), ('p', 1), ('e', 1), ('t', 1), ('i', 1), ('t', 1), ('i', 1), ('v', 1), ('e', 2), (' ', 1), ('s', 1), ('t', 1), ('r', 1), ('i', 9), ('n', 1), ('g', 3)]\n",
      "thiiiissss isssss a weeeeiiirrrdddd rrepetitivee striiiiiiiiinggg\n"
     ]
    }
   ],
   "source": [
    "string = 'thiiiissss isssss a weeeeiiirrrdddd rrepetitivee striiiiiiiiinggg'\n",
    "encoded = encode_ascii(string)\n",
    "print(encoded)\n",
    "\n",
    "decoded = decode_ascii(encoded)\n",
    "print(decoded)"
   ]
  },
  {
   "cell_type": "code",
   "execution_count": 328,
   "id": "274e1030-0df0-496f-aa97-da5119c9c2ae",
   "metadata": {
    "jupyter": {
     "source_hidden": true
    },
    "tags": []
   },
   "outputs": [],
   "source": [
    "annoying_ascii_art_string = '''\n",
    "H   H EEEEE L     L      OOO       W   W  OOO  RRRR  L     DDDD  !!\n",
    "H   H E     L     L     O   O      W W W O   O R   R L     D   D !! \n",
    "HHHHH EEEEE L     L     O   O      W W W O   O RRRR  L     D   D !! \n",
    "H   H E     L     L     O   O  ,,   W W  O   O R   R L     D   D    \n",
    "H   H EEEEE LLLLL LLLLL  OOO  ,,    W W   OOO  R   R LLLLL DDDD  !!\n",
    "\n",
    "  |\\_/|       (\\_/)\n",
    " / @ @ \\     (='.'=)\n",
    "( > º < )    (\")_(\")\n",
    " `>>x<<´      \n",
    " /  O  \\       \n",
    "\n",
    "\n",
    "                          oooo$$$$$$$$$$$$oooo\n",
    "                      oo$$$$$$$$$$$$$$$$$$$$$$$$o\n",
    "                   oo$$$$$$$$$$$$$$$$$$$$$$$$$$$$$$o         o$   $$ o$\n",
    "   o $ oo        o$$$$$$$$$$$$$$$$$$$$$$$$$$$$$$$$$$$$o       $$ $$ $$o$\n",
    "oo $ $ \"$      o$$$$$$$$$    $$$$$$$$$$$$$    $$$$$$$$$o       $$$o$$o$\n",
    "\"$$$$$$o$     o$$$$$$$$$      $$$$$$$$$$$      $$$$$$$$$$o    $$$$$$$$\n",
    "  $$$$$$$    $$$$$$$$$$$      $$$$$$$$$$$      $$$$$$$$$$$$$$$$$$$$$$$\n",
    "  $$$$$$$$$$$$$$$$$$$$$$$    $$$$$$$$$$$$$    $$$$$$$$$$$$$$  \"\"\"$$$\n",
    "   \"$$$\"\"\"\"$$$$$$$$$$$$$$$$$$$$$$$$$$$$$$$$$$$$$$$$$$$$$$$$$     \"$$$\n",
    "    $$$   o$$$$$$$$$$$$$$$$$$$$$$$$$$$$$$$$$$$$$$$$$$$$$$$$$$     \"$$$o\n",
    "   o$$\"   $$$$$$$$$$$$$$$$$$$$$$$$$$$$$$$$$$$$$$$$$$$$$$$$$$$       $$$o\n",
    "   $$$    $$$$$$$$$$$$$$$$$$$$$$$$$$$$$$$$$$$$$$$$$$$$$\" \"$$$$$$ooooo$$$$o\n",
    "  o$$$oooo$$$$$  $$$$$$$$$$$$$$$$$$$$$$$$$$$$$$$$$$$$$   o$$$$$$$$$$$$$$$$$\n",
    "  $$$$$$$$\"$$$$   $$$$$$$$$$$$$$$$$$$$$$$$$$$$$$$$$$     $$$$\"\"\"\"\"\"\"\"\n",
    " \"\"\"\"       $$$$    \"$$$$$$$$$$$$$$$$$$$$$$$$$$$$\"      o$$$\n",
    "            \"$$$o     \"\"\"$$$$$$$$$$$$$$$$$$\"$$\"         $$$\n",
    "              $$$o          \"$$\"\"$$$$$$\"\"\"\"           o$$$\n",
    "               $$$$o                 oo             o$$$\"\n",
    "                \"$$$$o      o$$$$$$o\"$$$$o        o$$$$\n",
    "                  \"$$$$$oo     \"\"$$$$o$$$$$o   o$$$$\"\"  \n",
    "                     \"\"$$$$$oooo  \"$$$o$$$$$$$$$\"\"\"\n",
    "                        \"\"$$$$$$$oo $$$$$$$$$$       \n",
    "                                \"\"\"\"$$$$$$$$$$$        \n",
    "                                    $$$$$$$$$$$$       \n",
    "                                     $$$$$$$$$$\"      \n",
    "                                      \"$$$\"\"\"\"\n",
    "\n",
    "\n",
    "'''"
   ]
  },
  {
   "cell_type": "code",
   "execution_count": 329,
   "id": "8b17e1ba-3166-4141-ad02-373e89974479",
   "metadata": {},
   "outputs": [
    {
     "name": "stdout",
     "output_type": "stream",
     "text": [
      "[('\\n', 1), ('H', 1), (' ', 3), ('H', 1), (' ', 1), ('E', 5), (' ', 1), ('L', 1), (' ', 5), ('L', 1), (' ', 6), ('O', 3), (' ', 7), ('W', 1), (' ', 3), ('W', 1), (' ', 2), ('O', 3), (' ', 2), ('R', 4), (' ', 2), ('L', 1), (' ', 5), ('D', 4), (' ', 2), ('!', 2), ('\\n', 1), ('H', 1), (' ', 3), ('H', 1), (' ', 1), ('E', 1), (' ', 5), ('L', 1), (' ', 5), ('L', 1), (' ', 5), ('O', 1), (' ', 3), ('O', 1), (' ', 6), ('W', 1), (' ', 1), ('W', 1), (' ', 1), ('W', 1), (' ', 1), ('O', 1), (' ', 3), ('O', 1), (' ', 1), ('R', 1), (' ', 3), ('R', 1), (' ', 1), ('L', 1), (' ', 5), ('D', 1), (' ', 3), ('D', 1), (' ', 1), ('!', 2), (' ', 1), ('\\n', 1), ('H', 5), (' ', 1), ('E', 5), (' ', 1), ('L', 1), (' ', 5), ('L', 1), (' ', 5), ('O', 1), (' ', 3), ('O', 1), (' ', 6), ('W', 1), (' ', 1), ('W', 1), (' ', 1), ('W', 1), (' ', 1), ('O', 1), (' ', 3), ('O', 1), (' ', 1), ('R', 4), (' ', 2), ('L', 1), (' ', 5), ('D', 1), (' ', 3), ('D', 1), (' ', 1), ('!', 2), (' ', 1), ('\\n', 1), ('H', 1), (' ', 3), ('H', 1), (' ', 1), ('E', 1), (' ', 5), ('L', 1), (' ', 5), ('L', 1), (' ', 5), ('O', 1), (' ', 3), ('O', 1), (' ', 2), (',', 2), (' ', 3), ('W', 1), (' ', 1), ('W', 1), (' ', 2), ('O', 1), (' ', 3), ('O', 1), (' ', 1), ('R', 1), (' ', 3), ('R', 1), (' ', 1), ('L', 1), (' ', 5), ('D', 1), (' ', 3), ('D', 1), (' ', 4), ('\\n', 1), ('H', 1), (' ', 3), ('H', 1), (' ', 1), ('E', 5), (' ', 1), ('L', 5), (' ', 1), ('L', 5), (' ', 2), ('O', 3), (' ', 2), (',', 2), (' ', 4), ('W', 1), (' ', 1), ('W', 1), (' ', 3), ('O', 3), (' ', 2), ('R', 1), (' ', 3), ('R', 1), (' ', 1), ('L', 5), (' ', 1), ('D', 4), (' ', 2), ('!', 2), ('\\n', 2), (' ', 2), ('|', 1), ('\\\\', 1), ('_', 1), ('/', 1), ('|', 1), (' ', 7), ('(', 1), ('\\\\', 1), ('_', 1), ('/', 1), (')', 1), ('\\n', 1), (' ', 1), ('/', 1), (' ', 1), ('@', 1), (' ', 1), ('@', 1), (' ', 1), ('\\\\', 1), (' ', 5), ('(', 1), ('=', 1), (\"'\", 1), ('.', 1), (\"'\", 1), ('=', 1), (')', 1), ('\\n', 1), ('(', 1), (' ', 1), ('>', 1), (' ', 1), ('º', 1), (' ', 1), ('<', 1), (' ', 1), (')', 1), (' ', 4), ('(', 1), ('\"', 1), (')', 1), ('_', 1), ('(', 1), ('\"', 1), (')', 1), ('\\n', 1), (' ', 1), ('`', 1), ('>', 2), ('x', 1), ('<', 2), ('´', 1), (' ', 6), ('\\n', 1), (' ', 1), ('/', 1), (' ', 2), ('O', 1), (' ', 2), ('\\\\', 1), (' ', 7), ('\\n', 3), (' ', 26), ('o', 4), ('$', 12), ('o', 4), ('\\n', 1), (' ', 22), ('o', 2), ('$', 24), ('o', 1), ('\\n', 1), (' ', 19), ('o', 2), ('$', 30), ('o', 1), (' ', 9), ('o', 1), ('$', 1), (' ', 3), ('$', 2), (' ', 1), ('o', 1), ('$', 1), ('\\n', 1), (' ', 3), ('o', 1), (' ', 1), ('$', 1), (' ', 1), ('o', 2), (' ', 8), ('o', 1), ('$', 36), ('o', 1), (' ', 7), ('$', 2), (' ', 1), ('$', 2), (' ', 1), ('$', 2), ('o', 1), ('$', 1), ('\\n', 1), ('o', 2), (' ', 1), ('$', 1), (' ', 1), ('$', 1), (' ', 1), ('\"', 1), ('$', 1), (' ', 6), ('o', 1), ('$', 9), (' ', 4), ('$', 13), (' ', 4), ('$', 9), ('o', 1), (' ', 7), ('$', 3), ('o', 1), ('$', 2), ('o', 1), ('$', 1), ('\\n', 1), ('\"', 1), ('$', 6), ('o', 1), ('$', 1), (' ', 5), ('o', 1), ('$', 9), (' ', 6), ('$', 11), (' ', 6), ('$', 10), ('o', 1), (' ', 4), ('$', 8), ('\\n', 1), (' ', 2), ('$', 7), (' ', 4), ('$', 11), (' ', 6), ('$', 11), (' ', 6), ('$', 23), ('\\n', 1), (' ', 2), ('$', 23), (' ', 4), ('$', 13), (' ', 4), ('$', 14), (' ', 2), ('\"', 3), ('$', 3), ('\\n', 1), (' ', 3), ('\"', 1), ('$', 3), ('\"', 4), ('$', 49), (' ', 5), ('\"', 1), ('$', 3), ('\\n', 1), (' ', 4), ('$', 3), (' ', 3), ('o', 1), ('$', 50), (' ', 5), ('\"', 1), ('$', 3), ('o', 1), ('\\n', 1), (' ', 3), ('o', 1), ('$', 2), ('\"', 1), (' ', 3), ('$', 51), (' ', 7), ('$', 3), ('o', 1), ('\\n', 1), (' ', 3), ('$', 3), (' ', 4), ('$', 45), ('\"', 1), (' ', 1), ('\"', 1), ('$', 6), ('o', 5), ('$', 4), ('o', 1), ('\\n', 1), (' ', 2), ('o', 1), ('$', 3), ('o', 4), ('$', 5), (' ', 2), ('$', 37), (' ', 3), ('o', 1), ('$', 17), ('\\n', 1), (' ', 2), ('$', 8), ('\"', 1), ('$', 4), (' ', 3), ('$', 34), (' ', 5), ('$', 4), ('\"', 8), ('\\n', 1), (' ', 1), ('\"', 4), (' ', 7), ('$', 4), (' ', 4), ('\"', 1), ('$', 28), ('\"', 1), (' ', 6), ('o', 1), ('$', 3), ('\\n', 1), (' ', 12), ('\"', 1), ('$', 3), ('o', 1), (' ', 5), ('\"', 3), ('$', 18), ('\"', 1), ('$', 2), ('\"', 1), (' ', 9), ('$', 3), ('\\n', 1), (' ', 14), ('$', 3), ('o', 1), (' ', 10), ('\"', 1), ('$', 2), ('\"', 2), ('$', 6), ('\"', 4), (' ', 11), ('o', 1), ('$', 3), ('\\n', 1), (' ', 15), ('$', 4), ('o', 1), (' ', 17), ('o', 2), (' ', 13), ('o', 1), ('$', 3), ('\"', 1), ('\\n', 1), (' ', 16), ('\"', 1), ('$', 4), ('o', 1), (' ', 6), ('o', 1), ('$', 6), ('o', 1), ('\"', 1), ('$', 4), ('o', 1), (' ', 8), ('o', 1), ('$', 4), ('\\n', 1), (' ', 18), ('\"', 1), ('$', 5), ('o', 2), (' ', 5), ('\"', 2), ('$', 4), ('o', 1), ('$', 5), ('o', 1), (' ', 3), ('o', 1), ('$', 4), ('\"', 2), (' ', 2), ('\\n', 1), (' ', 21), ('\"', 2), ('$', 5), ('o', 4), (' ', 2), ('\"', 1), ('$', 3), ('o', 1), ('$', 9), ('\"', 3), ('\\n', 1), (' ', 24), ('\"', 2), ('$', 7), ('o', 2), (' ', 1), ('$', 10), (' ', 7), ('\\n', 1), (' ', 32), ('\"', 4), ('$', 11), (' ', 8), ('\\n', 1), (' ', 36), ('$', 12), (' ', 7), ('\\n', 1), (' ', 37), ('$', 10), ('\"', 1), (' ', 6), ('\\n', 1), (' ', 38), ('\"', 1), ('$', 3), ('\"', 4), ('\\n', 3)]\n",
      "\n",
      "H   H EEEEE L     L      OOO       W   W  OOO  RRRR  L     DDDD  !!\n",
      "H   H E     L     L     O   O      W W W O   O R   R L     D   D !! \n",
      "HHHHH EEEEE L     L     O   O      W W W O   O RRRR  L     D   D !! \n",
      "H   H E     L     L     O   O  ,,   W W  O   O R   R L     D   D    \n",
      "H   H EEEEE LLLLL LLLLL  OOO  ,,    W W   OOO  R   R LLLLL DDDD  !!\n",
      "\n",
      "  |\\_/|       (\\_/)\n",
      " / @ @ \\     (='.'=)\n",
      "( > º < )    (\")_(\")\n",
      " `>>x<<´      \n",
      " /  O  \\       \n",
      "\n",
      "\n",
      "                          oooo$$$$$$$$$$$$oooo\n",
      "                      oo$$$$$$$$$$$$$$$$$$$$$$$$o\n",
      "                   oo$$$$$$$$$$$$$$$$$$$$$$$$$$$$$$o         o$   $$ o$\n",
      "   o $ oo        o$$$$$$$$$$$$$$$$$$$$$$$$$$$$$$$$$$$$o       $$ $$ $$o$\n",
      "oo $ $ \"$      o$$$$$$$$$    $$$$$$$$$$$$$    $$$$$$$$$o       $$$o$$o$\n",
      "\"$$$$$$o$     o$$$$$$$$$      $$$$$$$$$$$      $$$$$$$$$$o    $$$$$$$$\n",
      "  $$$$$$$    $$$$$$$$$$$      $$$$$$$$$$$      $$$$$$$$$$$$$$$$$$$$$$$\n",
      "  $$$$$$$$$$$$$$$$$$$$$$$    $$$$$$$$$$$$$    $$$$$$$$$$$$$$  \"\"\"$$$\n",
      "   \"$$$\"\"\"\"$$$$$$$$$$$$$$$$$$$$$$$$$$$$$$$$$$$$$$$$$$$$$$$$$     \"$$$\n",
      "    $$$   o$$$$$$$$$$$$$$$$$$$$$$$$$$$$$$$$$$$$$$$$$$$$$$$$$$     \"$$$o\n",
      "   o$$\"   $$$$$$$$$$$$$$$$$$$$$$$$$$$$$$$$$$$$$$$$$$$$$$$$$$$       $$$o\n",
      "   $$$    $$$$$$$$$$$$$$$$$$$$$$$$$$$$$$$$$$$$$$$$$$$$$\" \"$$$$$$ooooo$$$$o\n",
      "  o$$$oooo$$$$$  $$$$$$$$$$$$$$$$$$$$$$$$$$$$$$$$$$$$$   o$$$$$$$$$$$$$$$$$\n",
      "  $$$$$$$$\"$$$$   $$$$$$$$$$$$$$$$$$$$$$$$$$$$$$$$$$     $$$$\"\"\"\"\"\"\"\"\n",
      " \"\"\"\"       $$$$    \"$$$$$$$$$$$$$$$$$$$$$$$$$$$$\"      o$$$\n",
      "            \"$$$o     \"\"\"$$$$$$$$$$$$$$$$$$\"$$\"         $$$\n",
      "              $$$o          \"$$\"\"$$$$$$\"\"\"\"           o$$$\n",
      "               $$$$o                 oo             o$$$\"\n",
      "                \"$$$$o      o$$$$$$o\"$$$$o        o$$$$\n",
      "                  \"$$$$$oo     \"\"$$$$o$$$$$o   o$$$$\"\"  \n",
      "                     \"\"$$$$$oooo  \"$$$o$$$$$$$$$\"\"\"\n",
      "                        \"\"$$$$$$$oo $$$$$$$$$$       \n",
      "                                \"\"\"\"$$$$$$$$$$$        \n",
      "                                    $$$$$$$$$$$$       \n",
      "                                     $$$$$$$$$$\"      \n",
      "                                      \"$$$\"\"\"\"\n",
      "\n",
      "\n",
      "\n"
     ]
    }
   ],
   "source": [
    "encoded = encode_ascii(annoying_ascii_art_string)\n",
    "print(encoded)\n",
    "\n",
    "decoded = decode_ascii(encoded)\n",
    "print(decoded)"
   ]
  },
  {
   "cell_type": "markdown",
   "id": "aafee75a-a47e-4f33-97e4-33c999e04221",
   "metadata": {
    "jp-MarkdownHeadingCollapsed": true,
    "tags": []
   },
   "source": [
    "__________\n",
    "\n",
    "# Challenge 4: Primes\n",
    "\n",
    "Once again, this is a very complex challenge. In fact, I didn't even solve it the way she did (cause it was confusing). So here's my version."
   ]
  },
  {
   "cell_type": "code",
   "execution_count": 369,
   "id": "4efae91a-5993-411b-9376-55a7ffa76d15",
   "metadata": {},
   "outputs": [],
   "source": [
    "def findPrimesUpTo(inputNumber,\n",
    "                  printCount = True):\n",
    "    '''\n",
    "    Returns a set of all primes up to the input number.\n",
    "    However, this logic will loop through all figures up to the\n",
    "    input number, so performance will slow significantly as you move\n",
    "    into larger and larger numbers.\n",
    "    '''\n",
    "    set_of_primes = set()\n",
    "    for num in range(1, int(inputNumber) + 1):\n",
    "        if num > 1: ### Cannot be 1\n",
    "            for i in range(2, num): ### From two forward, loop through all numbers up to the current looped-number\n",
    "                if (num % i) == 0:  ### If the number is divisible by any preceeding number, it is not prime\n",
    "                    break\n",
    "                else:\n",
    "                    set_of_primes.add(num) ### If not divisible, add to the set.\n",
    "\n",
    "    if printCount:\n",
    "        print(f'There are {len(set_of_primes)} prime numbers up to {inputNumber}')\n",
    "    \n",
    "    return set_of_primes"
   ]
  },
  {
   "cell_type": "code",
   "execution_count": 376,
   "id": "9a09a7e0-5d24-4b9b-98b1-7a2baf28d433",
   "metadata": {},
   "outputs": [
    {
     "name": "stdout",
     "output_type": "stream",
     "text": [
      "There are 24 prime numbers up to 50\n"
     ]
    },
    {
     "data": {
      "text/plain": [
       "{3,\n",
       " 5,\n",
       " 7,\n",
       " 9,\n",
       " 11,\n",
       " 13,\n",
       " 15,\n",
       " 17,\n",
       " 19,\n",
       " 21,\n",
       " 23,\n",
       " 25,\n",
       " 27,\n",
       " 29,\n",
       " 31,\n",
       " 33,\n",
       " 35,\n",
       " 37,\n",
       " 39,\n",
       " 41,\n",
       " 43,\n",
       " 45,\n",
       " 47,\n",
       " 49}"
      ]
     },
     "execution_count": 376,
     "metadata": {},
     "output_type": "execute_result"
    }
   ],
   "source": [
    "findPrimesUpTo(50, printCount=True)"
   ]
  },
  {
   "cell_type": "code",
   "execution_count": 374,
   "id": "a8925834-dbf1-4669-93b6-16929d7c270e",
   "metadata": {},
   "outputs": [
    {
     "name": "stdout",
     "output_type": "stream",
     "text": [
      "There are 499 prime numbers up to 1000\n"
     ]
    }
   ],
   "source": [
    "primesUpTo = findPrimesUpTo(1000,printCount=True)"
   ]
  },
  {
   "cell_type": "markdown",
   "id": "a48ccb55-2d6a-4409-8260-61720f931502",
   "metadata": {
    "jp-MarkdownHeadingCollapsed": true,
    "tags": []
   },
   "source": [
    "__________\n",
    "\n",
    "# Challenge 5: Get Data Functions\n",
    "\n",
    "This challenge is <i>slightly</i> more do-able than challenges 2-4, in my opinion, but is still quite hard for a beginner's program. Part of the complexity is purely from how the host explains. I took a bunch of liberties to spare myself some work (e.g. I made 1 function instead of 3)."
   ]
  },
  {
   "cell_type": "markdown",
   "id": "674f9655-5aa0-4219-9430-376eaea17d47",
   "metadata": {},
   "source": [
    "### Part 1:"
   ]
  },
  {
   "cell_type": "code",
   "execution_count": 132,
   "id": "58665514-7f88-42bb-998f-c8075894411e",
   "metadata": {},
   "outputs": [],
   "source": [
    "import random\n",
    "import time\n",
    "\n",
    "servicesAreUp = True"
   ]
  },
  {
   "cell_type": "code",
   "execution_count": 133,
   "id": "1269a1b1-309a-4004-9b2a-38aaf8eaaeb2",
   "metadata": {},
   "outputs": [],
   "source": [
    "def getData(percentEntry = .5):\n",
    "    '''\n",
    "    Given some percent likelihood, return a \"data\" value if a randomized\n",
    "    value is greater than that percentage.\n",
    "    '''    \n",
    "    time.sleep(.1)\n",
    "    if servicesAreUp and random.random() < percentEntry: ### Only print if greater than % likelihood\n",
    "        return f'You got the data! That only happens {percentEntry*100}% of the time!'\n",
    "        #break"
   ]
  },
  {
   "cell_type": "code",
   "execution_count": 212,
   "id": "ae32aee3-ef02-45d0-9ad4-c8a77df2ab8b",
   "metadata": {},
   "outputs": [
    {
     "name": "stdout",
     "output_type": "stream",
     "text": [
      "None\n",
      "None\n",
      "You got the data! That only happens 50.0% of the time!\n",
      "You got the data! That only happens 100% of the time!\n",
      "------------------------\n",
      "None\n",
      "None\n",
      "None\n",
      "None\n"
     ]
    }
   ],
   "source": [
    "servicesAreUp = True\n",
    "\n",
    "print(getData(percentEntry=.1))\n",
    "print(getData(percentEntry=.25))\n",
    "print(getData(percentEntry=.5))\n",
    "print(getData(percentEntry=1))\n",
    "\n",
    "print('------------------------')\n",
    "\n",
    "servicesAreUp = False\n",
    "\n",
    "print(getData(percentEntry=.1))\n",
    "print(getData(percentEntry=.25))\n",
    "print(getData(percentEntry=.5))\n",
    "print(getData(percentEntry=1))"
   ]
  },
  {
   "cell_type": "markdown",
   "id": "bb4e47f2-f4c3-468d-8dfa-dcfbb3009d7b",
   "metadata": {},
   "source": [
    "### Part 2:"
   ]
  },
  {
   "cell_type": "markdown",
   "id": "f8ba20bb-c8dd-4cf8-a13a-d51b44dfd6c7",
   "metadata": {},
   "source": [
    "This challenge required a bit of personalization and thought around how to figure out a maximum threshold. In my case, I decided to create a rolling Expected Value based on the probability input. I assumed it would be extremely statistically unlikely to have seen 0 results when we have an expected value of 4 (meaning we would expect to see 4, but have seen zero), so my cutoff point is (Probability * Retry_Count) = 4.\n",
    "\n",
    "For example, if we have 50 retries and a probability of 25%, we'd expect to see 4 positives by 16 loops (16*.25=4). If we've seen more than 16 consecutive failures, the services are assumed to be inactive."
   ]
  },
  {
   "cell_type": "code",
   "execution_count": 205,
   "id": "4d67cdcf-ec4d-4634-912a-b1c6585619df",
   "metadata": {},
   "outputs": [],
   "source": [
    "def getWithRetry(probability = .25):\n",
    "    '''\n",
    "    Attempt to get data from the getData() function. Retry attempts are capped to\n",
    "    Probability*RetryCount≤4. If that threshold is met -- meaning we'd expect 4 \n",
    "    positives during that window -- the program exits under the assumption that\n",
    "    the services are not live.\n",
    "    '''\n",
    "    retry_count = 50 ## Maximum retry count\n",
    "    likelihoodThreshold = 4 ## Maximum expected value to limit retries. \n",
    "\n",
    "    if probability == 0: ## Fail if there is no chance.\n",
    "        return print(('Retry count reached with no data returned.')) \n",
    "    \n",
    "    for i in range(retry_count): ## Loop through all numbers from 1 to retry_count.\n",
    "        thisResult = getData(percentEntry=probability) ## Run the getData function\n",
    "        if thisResult is not None: ## If it returns anything, success.\n",
    "            return print(thisResult, f'Attempts Made: {i+1}.')\n",
    "        \n",
    "        currentLikelihood = (i+1)*probability ## Calculate current likelihood of a positive result (1 in X)\n",
    "        if currentLikelihood > likelihoodThreshold: ## If likelihood has passed the threshold, assume services down.\n",
    "            return print(f'{i} consecutivce failures reached, which is more than the expected failure rate. Services are likely not up.')       \n",
    "        \n",
    "        if i == retry_count-1: ## If all retries have been made and no results found, fail but suggest likelihood to be the reason.\n",
    "            return print(('Retry count reached with no data returned. Services may be up, but data return is unlikely.'))\n",
    "    "
   ]
  },
  {
   "cell_type": "code",
   "execution_count": 206,
   "id": "ba7b2dcf-7eb9-46e4-9bb6-802d117e8301",
   "metadata": {},
   "outputs": [
    {
     "name": "stdout",
     "output_type": "stream",
     "text": [
      "You got the data! That only happens 25.0% of the time! Attempts Made: 2.\n"
     ]
    }
   ],
   "source": [
    "servicesAreUp = True\n",
    "getWithRetry(probability = .25)"
   ]
  },
  {
   "cell_type": "code",
   "execution_count": 209,
   "id": "5ef00b0b-234e-4add-9c6e-88f0dcf13e94",
   "metadata": {},
   "outputs": [
    {
     "name": "stdout",
     "output_type": "stream",
     "text": [
      "8 consecutivce failures reached, which is more than the expected failure rate. Services are likely not up.\n"
     ]
    }
   ],
   "source": [
    "servicesAreUp = False\n",
    "getWithRetry(probability = .5)"
   ]
  },
  {
   "cell_type": "code",
   "execution_count": null,
   "id": "21e96773-690e-4040-9c83-4939d581b639",
   "metadata": {},
   "outputs": [],
   "source": []
  }
 ],
 "metadata": {
  "kernelspec": {
   "display_name": "Python 3 (ipykernel)",
   "language": "python",
   "name": "python3"
  },
  "language_info": {
   "codemirror_mode": {
    "name": "ipython",
    "version": 3
   },
   "file_extension": ".py",
   "mimetype": "text/x-python",
   "name": "python",
   "nbconvert_exporter": "python",
   "pygments_lexer": "ipython3",
   "version": "3.9.12"
  }
 },
 "nbformat": 4,
 "nbformat_minor": 5
}
